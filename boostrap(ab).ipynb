{
 "cells": [
  {
   "cell_type": "code",
   "execution_count": 2,
   "metadata": {},
   "outputs": [],
   "source": [
    "import pandas as pd\n",
    "import numpy as np\n",
    "from scipy.stats import norm"
   ]
  },
  {
   "cell_type": "code",
   "execution_count": 5,
   "metadata": {},
   "outputs": [],
   "source": [
    "def bootstrap(data1,\n",
    "            data2,\n",
    "            statistics=np.mean,\n",
    "            conf=.95,\n",
    "            iterations=1000\n",
    "            ):\n",
    "    \n",
    "    boots_len = max([len(data_column_1), len(data_column_2)])\n",
    "    data = []\n",
    "    for i in range(iterations):\n",
    "        \n",
    "        sample1 = data1.sample(boots_len, replace=True).values\n",
    "        sample2 = data2.sample(boots_len, replace=True).values\n",
    "        \n",
    "        data.append(statistics(sample1, sample2))\n",
    "    \n",
    "    bootstrap_df = pd.DataFrame(data)\n",
    "    \n",
    "    left = (1-conf)/2\n",
    "    right = 1-(1-conf)/2\n",
    "    \n",
    "    quant = bootstrap_df.quantile([left, right])\n",
    "    \n",
    "    p1 = norm.cds(x=0, loc=np.mean(data), scale=np.std(data))\n",
    "    p2 = norm.cds(x=0, loc=-np.mean(data), scale=np.std(data))\n",
    "    \n",
    "    p_value = min(p_1, p_2) * 2\n",
    "\n",
    "    return {\"p_value\": p_value}"
   ]
  },
  {
   "cell_type": "code",
   "execution_count": null,
   "metadata": {},
   "outputs": [],
   "source": []
  }
 ],
 "metadata": {
  "kernelspec": {
   "display_name": "Python 3",
   "language": "python",
   "name": "python3"
  },
  "language_info": {
   "codemirror_mode": {
    "name": "ipython",
    "version": 3
   },
   "file_extension": ".py",
   "mimetype": "text/x-python",
   "name": "python",
   "nbconvert_exporter": "python",
   "pygments_lexer": "ipython3",
   "version": "3.8.3"
  }
 },
 "nbformat": 4,
 "nbformat_minor": 4
}
